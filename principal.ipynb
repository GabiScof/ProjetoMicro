{
 "cells": [
  {
   "cell_type": "markdown",
   "metadata": {},
   "source": [
    "IMPORTAÇÃO DE BIBLIOTECAS"
   ]
  },
  {
   "cell_type": "code",
   "execution_count": null,
   "metadata": {},
   "outputs": [],
   "source": [
    "import cv2\n",
    "import mediapipe as mp\n",
    "import math\n",
    "import pandas as pd\n",
    "from datetime import datetime \n",
    "import serial\n",
    "import time\n"
   ]
  },
  {
   "cell_type": "markdown",
   "metadata": {},
   "source": [
    "FUNÇÕES PARA CALCULAR ANGULO"
   ]
  },
  {
   "cell_type": "markdown",
   "metadata": {},
   "source": [
    "Calculo do angulo em relação a uma reta"
   ]
  },
  {
   "cell_type": "code",
   "execution_count": 4,
   "metadata": {},
   "outputs": [],
   "source": [
    "def calcular_angulo(a_x: float, a_y: float, b_x: float, b_y: float):\n",
    "    '''\n",
    "    Função que calcula angulo entre um vetor e um vetor vertical a partir de 2 pontos.\n",
    "\n",
    "    Calculo efetuado a partir da seguinte fórmula: cos θ = (u.v)/(|u||v|)\n",
    "\n",
    "    O ponto (a) deve ser o ponto mais baixo, que se mexe em relação a referência\n",
    "    O ponto (b) deve ser o ponto de origem (o ponto mais alto, que não mexe)\n",
    "\n",
    "    Exemplo: Ponto (a) é o mão direita (ponto de refêrencia móvel) e ponto (b) é o ombro direito (ponto imóvel)\n",
    "    '''\n",
    "\n",
    "    # Calculo dos vetores\n",
    "    vetor_ab = (b_x - a_x, b_y - a_y) # Tupla com coordenadas do vetor\n",
    "    vetor_vertical = (0,-1) # Vetor (0,-1) pois preciso pegar o ângulo entre a reta (passando pelos dois pontos) e uma reta vertical\n",
    "\n",
    "    # Calculo dos componentes da formula\n",
    "    produto_escalar = vetor_ab[0] * vetor_vertical[0] + vetor_ab[1] * vetor_vertical[1] # (u.v)\n",
    "    norma_ab = math.sqrt(vetor_ab[0]**2 + vetor_ab[1]**2) # (|u|)\n",
    "    norma_v_vertical = math.sqrt(vetor_vertical[0]**2 + vetor_vertical[1]**2) # (|v|)\n",
    "\n",
    "    cos_angulo = produto_escalar / (norma_ab * norma_v_vertical) # cos θ \n",
    "    angulo_radianos = math.acos(cos_angulo) # arcos(cos(θ))\n",
    "    angulo_graus = math.degrees(angulo_radianos) # Porque a função acos retorna em radiano\n",
    "\n",
    "    return round(angulo_graus, 2) # Retorna apenas duas casas decimais"
   ]
  },
  {
   "cell_type": "markdown",
   "metadata": {},
   "source": [
    "FUNÇÃO QUE POSCIONA LEGENDA NA TELA"
   ]
  },
  {
   "cell_type": "code",
   "execution_count": null,
   "metadata": {},
   "outputs": [],
   "source": [
    "def funcao_texto(texto, cor, img, coord1,coord2):\n",
    "   '''\n",
    "   Função que posiciona a legenda na tela de exibição do mediapipe.\n",
    "\n",
    "   Argumentos da função:\n",
    "   texto => texto que será exibido na tela\n",
    "   cor => cor do retangulo que ficará atrás do texto\n",
    "   img => próprio da função\n",
    "   coord1 e coord2 => define posicionamento do texto\n",
    "   '''\n",
    "\n",
    "   # Definição das propriedades do texto\n",
    "   font = cv2.FONT_HERSHEY_SIMPLEX\n",
    "   font_scale = 0.7 \n",
    "   thickness = 2\n",
    "\n",
    "   # Obtendo o tamanho do texto\n",
    "   (text_width, text_height), baseline = cv2.getTextSize(texto, font, font_scale, thickness)\n",
    "\n",
    "   # Coordenadas do canto superior esquerdo\n",
    "   x, y = coord1, coord2\n",
    "\n",
    "   # Calculando o retângulo com base no tamanho do texto\n",
    "   top_left = (x, y - text_height - baseline)\n",
    "   bottom_right = (x + text_width, y + baseline)\n",
    "\n",
    "   # Desenhando o retângulo\n",
    "   cv2.rectangle(img, top_left, bottom_right, cor, -1)\n",
    "\n",
    "   cv2.putText(img, texto, (x, y), font, font_scale, (255, 255, 255), thickness)\n"
   ]
  }
 ],
 "metadata": {
  "kernelspec": {
   "display_name": ".venv",
   "language": "python",
   "name": "python3"
  },
  "language_info": {
   "codemirror_mode": {
    "name": "ipython",
    "version": 3
   },
   "file_extension": ".py",
   "mimetype": "text/x-python",
   "name": "python",
   "nbconvert_exporter": "python",
   "pygments_lexer": "ipython3",
   "version": "3.12.3"
  }
 },
 "nbformat": 4,
 "nbformat_minor": 2
}
